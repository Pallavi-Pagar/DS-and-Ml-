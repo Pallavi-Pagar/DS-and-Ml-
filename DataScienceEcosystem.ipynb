{
 "cells": [
  {
   "cell_type": "markdown",
   "id": "cb4ecf0e-e9cd-431f-a2ba-570e65f45b8a",
   "metadata": {},
   "source": [
    "# Data Science Tools and Ecosystem"
   ]
  },
  {
   "cell_type": "markdown",
   "id": "b2a03dbe-9b65-4639-b244-73c48c669e1b",
   "metadata": {},
   "source": [
    "# In this notebook, Data Science Tools and Ecosystem are summarized.\n",
    "\n"
   ]
  },
  {
   "cell_type": "markdown",
   "id": "51676247-8446-4c83-8bfd-ff9b04711cb5",
   "metadata": {},
   "source": [
    "**Objectives:**\n",
    "<ul>\n",
    "    <li>List popular languages for Data Science.</li>\n",
    "    <li>List of commonly used libraries in datascience</li>\n",
    "    <li>Arithmatic operations</li>\n",
    "    <li> Creating basic table </li>\n",
    "    <li>Creating the ordered list </li>\n",
    "</ul>"
   ]
  },
  {
   "cell_type": "markdown",
   "id": "89b9f3fc-aebb-4920-9b10-0ab333489b08",
   "metadata": {},
   "source": [
    "# Some of the popular languages that Data Scientists use are:\n",
    "<ol>\n",
    "<li>\n",
    "    python\n",
    "    \n",
    "</li>\n",
    "<li> R</li>\n",
    "<li>\n",
    "   julia\n",
    "</li>"
   ]
  },
  {
   "cell_type": "markdown",
   "id": "1100671f-e909-440f-9eb7-e876aeb64236",
   "metadata": {},
   "source": [
    "# Some of the commonly used libraries used by Data Scientists include:\n",
    "<ol>\n",
    "    <li>Numpy</li>\n",
    "    <li>Pandas</li>\n",
    "    <li>Scikit learn</li>\n",
    "</ol>"
   ]
  },
  {
   "cell_type": "markdown",
   "id": "38326429-ea03-4e81-8fa2-37232015f6a7",
   "metadata": {},
   "source": [
    "| Data Science Tools |\n",
    "|--------------------|\n",
    "| Jupyter Notebook   |\n",
    "| RStudio            |\n",
    "| Apache Zeppelin    |\n",
    "\n"
   ]
  },
  {
   "cell_type": "markdown",
   "id": "cfe8356a-9159-417d-9a18-596d50196f97",
   "metadata": {},
   "source": [
    "### Below are a few examples of evaluating arithmetic expressions in Python"
   ]
  },
  {
   "cell_type": "code",
   "execution_count": 3,
   "id": "4b7d421a-052a-4046-b5cc-9f5ff604def7",
   "metadata": {},
   "outputs": [
    {
     "data": {
      "text/plain": [
       "17"
      ]
     },
     "execution_count": 3,
     "metadata": {},
     "output_type": "execute_result"
    }
   ],
   "source": [
    "#This a simple arithmetic expression to mutiply then add integers\n",
    "(3*4)+5"
   ]
  },
  {
   "cell_type": "code",
   "execution_count": 4,
   "id": "5118c3c5-ee57-4a2f-bf44-e77a6cacee6d",
   "metadata": {},
   "outputs": [
    {
     "data": {
      "text/plain": [
       "3.3333333333333335"
      ]
     },
     "execution_count": 4,
     "metadata": {},
     "output_type": "execute_result"
    }
   ],
   "source": [
    "#his will convert 200 minutes to hours by diving by 60\n",
    "\n",
    "200 / 60"
   ]
  },
  {
   "cell_type": "code",
   "execution_count": null,
   "id": "4dbe7bef-1435-42f8-a601-87dc0973612d",
   "metadata": {},
   "outputs": [],
   "source": []
  },
  {
   "cell_type": "markdown",
   "id": "a7337e55-2082-4c2c-b93a-e86406833f30",
   "metadata": {},
   "source": [
    "## Author \n",
    "Pallavi"
   ]
  },
  {
   "cell_type": "code",
   "execution_count": null,
   "id": "353d1ccd-c51f-4564-8280-7ed4790f24b1",
   "metadata": {},
   "outputs": [],
   "source": []
  }
 ],
 "metadata": {
  "kernelspec": {
   "display_name": "Python 3 (ipykernel)",
   "language": "python",
   "name": "python3"
  },
  "language_info": {
   "codemirror_mode": {
    "name": "ipython",
    "version": 3
   },
   "file_extension": ".py",
   "mimetype": "text/x-python",
   "name": "python",
   "nbconvert_exporter": "python",
   "pygments_lexer": "ipython3",
   "version": "3.12.8"
  }
 },
 "nbformat": 4,
 "nbformat_minor": 5
}
